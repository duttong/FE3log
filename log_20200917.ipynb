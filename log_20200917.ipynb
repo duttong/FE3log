{
 "cells": [
  {
   "cell_type": "code",
   "execution_count": 10,
   "metadata": {},
   "outputs": [],
   "source": [
    "import pandas as pd\n",
    "import numpy as np\n",
    "import matplotlib.pyplot as plt"
   ]
  },
  {
   "cell_type": "code",
   "execution_count": 11,
   "metadata": {},
   "outputs": [
    {
     "data": {
      "text/html": [
       "<div>\n",
       "<style scoped>\n",
       "    .dataframe tbody tr th:only-of-type {\n",
       "        vertical-align: middle;\n",
       "    }\n",
       "\n",
       "    .dataframe tbody tr th {\n",
       "        vertical-align: top;\n",
       "    }\n",
       "\n",
       "    .dataframe thead th {\n",
       "        text-align: right;\n",
       "    }\n",
       "</style>\n",
       "<table border=\"1\" class=\"dataframe\">\n",
       "  <thead>\n",
       "    <tr style=\"text-align: right;\">\n",
       "      <th></th>\n",
       "      <th>message</th>\n",
       "    </tr>\n",
       "    <tr>\n",
       "      <th>datetime</th>\n",
       "      <th></th>\n",
       "    </tr>\n",
       "  </thead>\n",
       "  <tbody>\n",
       "    <tr>\n",
       "      <th>2020-09-17 07:41:57.789</th>\n",
       "      <td>DEBUG: Starting new HTTP connection (1): 10.1....</td>\n",
       "    </tr>\n",
       "    <tr>\n",
       "      <th>2020-09-17 07:41:57.816</th>\n",
       "      <td>DEBUG: http://10.1.1.101:9110 \"POST / HTTP/1.1...</td>\n",
       "    </tr>\n",
       "    <tr>\n",
       "      <th>2020-09-17 07:41:57.818</th>\n",
       "      <td>INFO: GC license key: 2J222-3WF4S-V8QHB-UYAKR</td>\n",
       "    </tr>\n",
       "    <tr>\n",
       "      <th>2020-09-17 07:41:57.831</th>\n",
       "      <td>DEBUG: http://10.1.1.101:9110 \"POST / HTTP/1.1...</td>\n",
       "    </tr>\n",
       "    <tr>\n",
       "      <th>2020-09-17 07:41:57.832</th>\n",
       "      <td>INFO: Starting data collection on detector 1</td>\n",
       "    </tr>\n",
       "  </tbody>\n",
       "</table>\n",
       "</div>"
      ],
      "text/plain": [
       "                                                                   message\n",
       "datetime                                                                  \n",
       "2020-09-17 07:41:57.789  DEBUG: Starting new HTTP connection (1): 10.1....\n",
       "2020-09-17 07:41:57.816  DEBUG: http://10.1.1.101:9110 \"POST / HTTP/1.1...\n",
       "2020-09-17 07:41:57.818      INFO: GC license key: 2J222-3WF4S-V8QHB-UYAKR\n",
       "2020-09-17 07:41:57.831  DEBUG: http://10.1.1.101:9110 \"POST / HTTP/1.1...\n",
       "2020-09-17 07:41:57.832       INFO: Starting data collection on detector 1"
      ]
     },
     "execution_count": 11,
     "metadata": {},
     "output_type": "execute_result"
    }
   ],
   "source": [
    "logfile = 'fe3_20200917-134157.log'\n",
    "df = pd.read_fwf(logfile,\n",
    "                 colspecs=[(0, 10), (12, 24), (25,200)],\n",
    "                 comment = '<soap',\n",
    "                 names=['date', 'time', 'message'],\n",
    "                 infer_datetime_format=True,\n",
    "                 parse_dates={'datetime':[0,1]},\n",
    "                 index_col = 'datetime')\n",
    "df.head()"
   ]
  },
  {
   "cell_type": "markdown",
   "metadata": {},
   "source": [
    "<h3>Search for strings in the message field"
   ]
  },
  {
   "cell_type": "code",
   "execution_count": 12,
   "metadata": {},
   "outputs": [
    {
     "data": {
      "text/html": [
       "<div>\n",
       "<style scoped>\n",
       "    .dataframe tbody tr th:only-of-type {\n",
       "        vertical-align: middle;\n",
       "    }\n",
       "\n",
       "    .dataframe tbody tr th {\n",
       "        vertical-align: top;\n",
       "    }\n",
       "\n",
       "    .dataframe thead th {\n",
       "        text-align: right;\n",
       "    }\n",
       "</style>\n",
       "<table border=\"1\" class=\"dataframe\">\n",
       "  <thead>\n",
       "    <tr style=\"text-align: right;\">\n",
       "      <th></th>\n",
       "      <th>message</th>\n",
       "    </tr>\n",
       "    <tr>\n",
       "      <th>datetime</th>\n",
       "      <th></th>\n",
       "    </tr>\n",
       "  </thead>\n",
       "  <tbody>\n",
       "    <tr>\n",
       "      <th>2020-09-17 07:58:50.561</th>\n",
       "      <td>INFO: Injection number 1</td>\n",
       "    </tr>\n",
       "    <tr>\n",
       "      <th>2020-09-17 08:03:50.558</th>\n",
       "      <td>INFO: Injection number 2</td>\n",
       "    </tr>\n",
       "    <tr>\n",
       "      <th>2020-09-17 08:08:50.568</th>\n",
       "      <td>INFO: Injection number 3</td>\n",
       "    </tr>\n",
       "    <tr>\n",
       "      <th>2020-09-17 08:13:50.568</th>\n",
       "      <td>INFO: Injection number 4</td>\n",
       "    </tr>\n",
       "    <tr>\n",
       "      <th>2020-09-17 08:18:50.568</th>\n",
       "      <td>INFO: Injection number 5</td>\n",
       "    </tr>\n",
       "  </tbody>\n",
       "</table>\n",
       "</div>"
      ],
      "text/plain": [
       "                                          message\n",
       "datetime                                         \n",
       "2020-09-17 07:58:50.561  INFO: Injection number 1\n",
       "2020-09-17 08:03:50.558  INFO: Injection number 2\n",
       "2020-09-17 08:08:50.568  INFO: Injection number 3\n",
       "2020-09-17 08:13:50.568  INFO: Injection number 4\n",
       "2020-09-17 08:18:50.568  INFO: Injection number 5"
      ]
     },
     "execution_count": 12,
     "metadata": {},
     "output_type": "execute_result"
    }
   ],
   "source": [
    "inj = df.loc[df.message.str.find('Injection number') >= 0]\n",
    "inj.head()"
   ]
  },
  {
   "cell_type": "code",
   "execution_count": 13,
   "metadata": {},
   "outputs": [
    {
     "name": "stderr",
     "output_type": "stream",
     "text": [
      "/Users/geoff/anaconda3/lib/python3.7/site-packages/ipykernel_launcher.py:1: SettingWithCopyWarning: \n",
      "A value is trying to be set on a copy of a slice from a DataFrame.\n",
      "Try using .loc[row_indexer,col_indexer] = value instead\n",
      "\n",
      "See the caveats in the documentation: https://pandas.pydata.org/pandas-docs/stable/user_guide/indexing.html#returning-a-view-versus-a-copy\n",
      "  \"\"\"Entry point for launching an IPython kernel.\n"
     ]
    },
    {
     "data": {
      "text/html": [
       "<div>\n",
       "<style scoped>\n",
       "    .dataframe tbody tr th:only-of-type {\n",
       "        vertical-align: middle;\n",
       "    }\n",
       "\n",
       "    .dataframe tbody tr th {\n",
       "        vertical-align: top;\n",
       "    }\n",
       "\n",
       "    .dataframe thead th {\n",
       "        text-align: right;\n",
       "    }\n",
       "</style>\n",
       "<table border=\"1\" class=\"dataframe\">\n",
       "  <thead>\n",
       "    <tr style=\"text-align: right;\">\n",
       "      <th></th>\n",
       "      <th>message</th>\n",
       "      <th>injnum</th>\n",
       "    </tr>\n",
       "    <tr>\n",
       "      <th>datetime</th>\n",
       "      <th></th>\n",
       "      <th></th>\n",
       "    </tr>\n",
       "  </thead>\n",
       "  <tbody>\n",
       "    <tr>\n",
       "      <th>2020-09-17 07:58:50.561</th>\n",
       "      <td>INFO: Injection number 1</td>\n",
       "      <td>1</td>\n",
       "    </tr>\n",
       "    <tr>\n",
       "      <th>2020-09-17 08:03:50.558</th>\n",
       "      <td>INFO: Injection number 2</td>\n",
       "      <td>2</td>\n",
       "    </tr>\n",
       "    <tr>\n",
       "      <th>2020-09-17 08:08:50.568</th>\n",
       "      <td>INFO: Injection number 3</td>\n",
       "      <td>3</td>\n",
       "    </tr>\n",
       "    <tr>\n",
       "      <th>2020-09-17 08:13:50.568</th>\n",
       "      <td>INFO: Injection number 4</td>\n",
       "      <td>4</td>\n",
       "    </tr>\n",
       "    <tr>\n",
       "      <th>2020-09-17 08:18:50.568</th>\n",
       "      <td>INFO: Injection number 5</td>\n",
       "      <td>5</td>\n",
       "    </tr>\n",
       "  </tbody>\n",
       "</table>\n",
       "</div>"
      ],
      "text/plain": [
       "                                          message  injnum\n",
       "datetime                                                 \n",
       "2020-09-17 07:58:50.561  INFO: Injection number 1       1\n",
       "2020-09-17 08:03:50.558  INFO: Injection number 2       2\n",
       "2020-09-17 08:08:50.568  INFO: Injection number 3       3\n",
       "2020-09-17 08:13:50.568  INFO: Injection number 4       4\n",
       "2020-09-17 08:18:50.568  INFO: Injection number 5       5"
      ]
     },
     "execution_count": 13,
     "metadata": {},
     "output_type": "execute_result"
    }
   ],
   "source": [
    "inj['injnum'] = np.arange(inj.shape[0])+1\n",
    "inj.head()"
   ]
  },
  {
   "cell_type": "code",
   "execution_count": 33,
   "metadata": {},
   "outputs": [],
   "source": [
    "inj = inj.reset_index()\n",
    "inj['delta'] = inj.datetime.diff()\n",
    "inj = inj.set_index('datetime')"
   ]
  },
  {
   "cell_type": "code",
   "execution_count": 34,
   "metadata": {},
   "outputs": [],
   "source": [
    "inj = inj.dropna()"
   ]
  },
  {
   "cell_type": "code",
   "execution_count": 35,
   "metadata": {},
   "outputs": [
    {
     "data": {
      "text/plain": [
       "Text(0, 0.5, 'time diff from previous injection')"
      ]
     },
     "execution_count": 35,
     "metadata": {},
     "output_type": "execute_result"
    },
    {
     "data": {
      "image/png": "[encoded data removed]",
      "text/plain": [
       "<Figure size 432x288 with 1 Axes>"
      ]
     },
     "metadata": {
      "needs_background": "light"
     },
     "output_type": "display_data"
    }
   ],
   "source": [
    "plt.plot(inj.injnum, inj.delta, 'o-')\n",
    "plt.xlabel('injection number')\n",
    "plt.ylabel('time diff from previous injection')"
   ]
  },
  {
   "cell_type": "code",
   "execution_count": 36,
   "metadata": {},
   "outputs": [
    {
     "data": {
      "text/plain": [
       "count                          134\n",
       "mean     0 days 00:05:00.000664179\n",
       "std      0 days 00:00:00.002820291\n",
       "min         0 days 00:04:59.990000\n",
       "25%                0 days 00:05:00\n",
       "50%                0 days 00:05:00\n",
       "75%         0 days 00:05:00.001000\n",
       "max         0 days 00:05:00.012000\n",
       "Name: delta, dtype: object"
      ]
     },
     "execution_count": 36,
     "metadata": {},
     "output_type": "execute_result"
    }
   ],
   "source": [
    "inj.delta.describe()"
   ]
  },
  {
   "cell_type": "code",
   "execution_count": null,
   "metadata": {},
   "outputs": [],
   "source": []
  }
 ],
 "metadata": {
  "kernelspec": {
   "display_name": "Python 3",
   "language": "python",
   "name": "python3"
  },
  "language_info": {
   "codemirror_mode": {
    "name": "ipython",
    "version": 3
   },
   "file_extension": ".py",
   "mimetype": "text/x-python",
   "name": "python",
   "nbconvert_exporter": "python",
   "pygments_lexer": "ipython3",
   "version": "3.7.7"
  }
 },
 "nbformat": 4,
 "nbformat_minor": 4
}
